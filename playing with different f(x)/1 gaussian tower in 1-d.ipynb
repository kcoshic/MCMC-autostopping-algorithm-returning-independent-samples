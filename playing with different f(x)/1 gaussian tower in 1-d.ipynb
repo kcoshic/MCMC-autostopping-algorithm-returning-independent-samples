{
 "cells": [
  {
   "cell_type": "code",
   "execution_count": 1,
   "metadata": {
    "collapsed": false
   },
   "outputs": [
    {
     "name": "stderr",
     "output_type": "stream",
     "text": [
      "/Users/kushcoshic/anaconda/lib/python2.7/site-packages/matplotlib/font_manager.py:273: UserWarning: Matplotlib is building the font cache using fc-list. This may take a moment.\n",
      "  warnings.warn('Matplotlib is building the font cache using fc-list. This may take a moment.')\n"
     ]
    }
   ],
   "source": [
    "import scipy as sp\n",
    "import numpy as np\n",
    "import matplotlib.pyplot as plt\n",
    "%matplotlib inline\n",
    "plt.ion()"
   ]
  },
  {
   "cell_type": "markdown",
   "metadata": {},
   "source": [
    "\\begin{equation}\n",
    "f(x) = (2\\pi)^{-\\frac{k}{2}}| \\mathbf{\\Sigma} |^{- \\frac{1}{2}} e^{- \\frac{1}{2}\\ (x-\\mu)\\prime \\ \\mathbf{\\Sigma}^{-1}\\ (x-\\mu )}\\ \\ , \\ \\ \\ k\\equiv dimension\n",
    "\\end{equation}"
   ]
  },
  {
   "cell_type": "code",
   "execution_count": 2,
   "metadata": {
    "collapsed": false
   },
   "outputs": [],
   "source": [
    "x_start = np.array([0.,9.,-9.,4.,-4.]) \n",
    "\n",
    "dimension = 1\n",
    "\n",
    "# Multivariate Normal distribution\n",
    "#x0=np.matrix([-8.5])\n",
    "#x1=np.matrix([8.5])\n",
    "#x2=np.matrix([0.])\n",
    "#x3=np.matrix([5.])\n",
    "x0=-4.5\n",
    "x1=.5\n",
    "\n",
    "\n",
    "cov=np.matrix([1.])\n",
    "det=np.linalg.det(cov)\n",
    "inv=np.linalg.inv(cov)\n",
    "sd=0.5\n",
    "k=dimension       # dimension\n",
    "def f(x):\n",
    "    x=np.ravel(x)\n",
    "    x=np.matrix(x)\n",
    "    return (1/(np.sqrt(2*np.pi)*sd))*np.exp(-(x-x0)**2/(2*(sd)**2))\n"
   ]
  },
  {
   "cell_type": "code",
   "execution_count": 3,
   "metadata": {
    "collapsed": false
   },
   "outputs": [],
   "source": [
    "n_eff_list = []\n",
    "mcmc_step_list = []\n",
    "n_eff_list_y = []\n",
    "\n",
    "#covv=covv_stepper\n",
    "covv=cov\n",
    "mean=dimension*[0.]\n",
    "\n",
    "def stepper(x):\n",
    "    x=np.ravel(x)\n",
    "    dx = np.random.multivariate_normal(mean, covv, 1)\n",
    "    return x+dx\n",
    "\n",
    "#global f\n",
    "\n",
    "\n",
    "n_eff_min = 60           # effective number of samples\n",
    "mcmc_step = 20000          # MCMC iterations step=size\n",
    "R_max = 1.1               # maximum allowed value for R\n",
    "\n",
    "choice = dimension*['']"
   ]
  },
  {
   "cell_type": "code",
   "execution_count": 4,
   "metadata": {
    "collapsed": false,
    "scrolled": false
   },
   "outputs": [
    {
     "name": "stderr",
     "output_type": "stream",
     "text": [
      "/Users/kushcoshic/anaconda/lib/python2.7/site-packages/ipykernel/__main__.py:139: VisibleDeprecationWarning: using a non-integer number instead of an integer will result in an error in the future\n",
      "/Users/kushcoshic/anaconda/lib/python2.7/site-packages/ipykernel/__main__.py:163: VisibleDeprecationWarning: using a non-integer number instead of an integer will result in an error in the future\n"
     ]
    }
   ],
   "source": [
    "def run_mcmc(f,x_start,stepper,n_eff_min,R_max,mcmc_step):\n",
    "    n_effective = np.zeros(dimension)\n",
    "    n_eff_min_list = np.zeros(dimension)\n",
    "    acceptance_list=[]\n",
    "    for i in range(dimension):\n",
    "        n_eff_min_list[i] = n_eff_min\n",
    "    R_max_list = np.zeros(dimension)\n",
    "    for i in range(dimension):\n",
    "        R_max_list[i] = R_max\n",
    "    \n",
    "    #n_effective_y = 0\n",
    "    z=0\n",
    "    R=0\n",
    "    mcmc_step_remember = mcmc_step\n",
    "    x_recorded = np.zeros((mcmc_step,dimension,len(x_start)))\n",
    "    while (np.any(np.array(n_effective)<n_eff_min_list) or np.any(R>R_max_list) and (choice[i]=='' for i in range(dimension))):\n",
    "        # MCMC results stored in a 3-d array, 3rd dimension corresponding to every new chain\n",
    "        if z==0:\n",
    "            mcmc_step_0=0\n",
    "            x_recorded = np.zeros((mcmc_step,dimension,len(x_start)))\n",
    "        else:\n",
    "            x_recorded_template = np.zeros((mcmc_step,dimension,len(x_start)))         # this if-else is used to store the already computed MCMC samples, before moving to further iterations (if n_eff condition not satisfied). This prevents unecessary wastage of computational power.\n",
    "            x_recorded_template[:mcmc_step_0,:,:]=x_recorded[:,:,:]\n",
    "            x_recorded = x_recorded_template\n",
    "        for i in range(len(x_start)):\n",
    "            x_current = x_start[i]\n",
    "            acceptances = np.zeros(mcmc_step)\n",
    "            for k in range(mcmc_step_0,mcmc_step):\n",
    "                x_new = stepper(x_current)\n",
    "                if np.random.uniform(0,1) < f(x_new)/f(x_current):\n",
    "                    x_current = x_new\n",
    "                    acceptances[k] = 1\n",
    "                x_recorded[k,:,i] = x_current\n",
    "            acceptance_list.append(1.0*acceptances.sum()/len(acceptances))\n",
    "            #print 'For chain %d,'%(i),\n",
    "            #print 'acceptance fraction = %f'%(1.0*acceptances.sum()/len(acceptances))\n",
    "\n",
    "        # Warm up period (extracting only second half of the iterations)\n",
    "        x_warmup = np.zeros((mcmc_step/2,dimension,len(x_start)))\n",
    "        x_warmup[:,:,:] = x_recorded[mcmc_step/2:,:,:]\n",
    "        #plt.plot(x_warmup[:,0,:],x_warmup[:,1,:],'.',color='b')\n",
    "\n",
    "        # Splitting the chains\n",
    "        x_result = np.zeros((mcmc_step/4,dimension,2*len(x_start)))\n",
    "        x_result[:,:,0:len(x_start)] = x_warmup[0:mcmc_step/4,:,:]\n",
    "        x_result[:,:,len(x_start):2*len(x_start)] = x_warmup[mcmc_step/4:mcmc_step/2,:,:]\n",
    "        \n",
    "        #global x_result\n",
    "\n",
    "        n=mcmc_step/4.0     # number of iterations in each chain\n",
    "        m=2.0*(len(x_start))    # number of chains\n",
    "\n",
    "        # Assessing mixing using between and within sequence variances\n",
    "\n",
    "        psi = []\n",
    "        for i in range(dimension):\n",
    "            psi.append(x_result[:,i,:])\n",
    "        psi = np.array(psi)\n",
    "        \n",
    "        \n",
    "        psi_dot_j_bar = []\n",
    "        psi_dot_dot_bar = []\n",
    "        B_term = []\n",
    "        B = []\n",
    "        s_j_square_term = []\n",
    "        s_j_square = []\n",
    "        W = []\n",
    "        var_dagger = []\n",
    "        R = []\n",
    "        i_array = []\n",
    "        psi_i_comma_j = []\n",
    "        psi_i_minus_t_comma_j = []\n",
    "        V0 = []\n",
    "        rho0 = []\n",
    "        rho_array_set = []\n",
    "        t_array_set = []\n",
    "        n_effective_list = []\n",
    "        t_array = np.arange(int(n))\n",
    "        sum_rho = 0\n",
    "        sum_rho_list = []\n",
    "        \n",
    "        \n",
    "        for d in range(dimension):\n",
    "            psi_dot_j_bar.append((1/n)*np.sum(psi[d], axis=0))\n",
    "            \n",
    "            psi_dot_dot_bar.append((1/m)*np.sum(psi_dot_j_bar[d]))\n",
    "            \n",
    "            B_term.append(psi_dot_j_bar[d] - psi_dot_dot_bar[d])\n",
    "            \n",
    "            B.append((n/(m-1.0))*np.sum(B_term[d]**2))\n",
    "\n",
    "            s_j_square_term.append(np.zeros((int(n),int(m))))\n",
    "            for j in range(int(m)):\n",
    "                s_j_square_term[d][:,j] = (psi[d][:,j] - psi_dot_j_bar[d][j])**2.0\n",
    "\n",
    "            s_j_square.append((1.0/(n-1))*np.sum(s_j_square_term[d], axis=0))\n",
    "            \n",
    "            W.append((1.0/(m))*np.sum(s_j_square[d]))\n",
    "            \n",
    "\n",
    "            # variance\n",
    "            var_dagger.append(((n-1)/(n))*W[d] + (1/n)*B[d])\n",
    "            \n",
    "            #var_dagger\n",
    "\n",
    "            # potential scale reduction\n",
    "            R.append(np.sqrt(var_dagger[d]/W[d]))\n",
    "            \n",
    "            #R\n",
    "            # Variogram\n",
    "            def V(t):\n",
    "                psi_i_comma_j = psi[d][t+1-1:,:]\n",
    "                \n",
    "                psi_i_minus_t_comma_j = psi[d][0:int(n)-t,:]\n",
    "                \n",
    "                t=float(t)\n",
    "                #V0.append((1/(m*(n-t)))*np.sum(np.sum((psi_i_comma_j[d] - psi_i_minus_t_comma_j[d])**2.0,axis=0)))\n",
    "                return (1.0/(m*(n-t)))*np.sum(np.sum((psi_i_comma_j - psi_i_minus_t_comma_j)**2.0,axis=0))\n",
    "            \n",
    "            # autocorrelation\n",
    "            def rho(t):\n",
    "                #rho0.append(1-(V(t)[d]/(2.0*var_dagger[d])))\n",
    "                return 1.0-(V(t)/(2.0*var_dagger[d]))\n",
    "            \n",
    "\n",
    "            rho_array=np.zeros(int(n))\n",
    "            for t in range(int(n)):\n",
    "                rho_array[t]= rho(int(t))\n",
    "            rho_array_set.append(rho_array)\n",
    "\n",
    "            for i in range(int(n)):\n",
    "                check = rho(i) + rho(i+1)\n",
    "                if check < 0:\n",
    "                    choice[d]=i*1.0\n",
    "                    break\n",
    "            \n",
    "            if choice[d] != '':\n",
    "                # effective sample size\n",
    "                n_effective[d]=(m*n)/(1+2.0*np.sum(rho_array[1:choice[d]]))\n",
    "            else:\n",
    "                break\n",
    "            \n",
    "        \n",
    "        mcmc_step_0 = mcmc_step\n",
    "        mcmc_step += mcmc_step_remember\n",
    "        z += 1\n",
    "        #global n_effective_list\n",
    "    \n",
    "    # Finally what we choose as the effective sample size\n",
    "    n_effective_final = np.amin(n_effective)\n",
    "    \n",
    "    # no. of samples to be skipped everytime\n",
    "    samples_skip = 1.0*x_result.shape[2]*x_result.shape[0]/n_effective_final\n",
    "    samples_skip=np.ceil(samples_skip)\n",
    "    \n",
    "    # store the independent samples in samples_final\n",
    "    if int(x_result.shape[0]/samples_skip)==x_result.shape[0]/samples_skip:\n",
    "        samples_final = np.zeros((int((x_result.shape[0])/samples_skip),x_result.shape[1],x_result.shape[2]))\n",
    "    else:\n",
    "        samples_final = np.zeros((int(np.ceil((x_result.shape[0])/samples_skip)),x_result.shape[1],x_result.shape[2]))\n",
    "    #samples_final = np.zeros((np.floor(x_result.shape[0]/np.floor(samples_skip))+1,x_result.shape[1],x_result.shape[2]))\n",
    "\n",
    "    samples_final[:,:,:] = x_result[0:x_result.shape[0]:samples_skip,:,:]\n",
    "    \n",
    "    # putting all points of different chains into 1 single array which can be referred to as the final array of samples\n",
    "    samples = np.zeros((samples_final.shape[0]*samples_final.shape[2],dimension))\n",
    "    for i in range(samples_final.shape[2]):\n",
    "        samples[i*samples_final.shape[0]:(i+1)*samples_final.shape[0],:]=samples_final[:,:,i]\n",
    "    \n",
    "    return n_effective,R,z-1,x_recorded.shape,x_result.shape,x_result,samples_final,samples,acceptance_list,x_recorded\n",
    "\n",
    "\n",
    "run = run_mcmc(f,x_start,stepper,n_eff_min,R_max,mcmc_step)"
   ]
  },
  {
   "cell_type": "code",
   "execution_count": 5,
   "metadata": {
    "collapsed": false
   },
   "outputs": [
    {
     "name": "stdout",
     "output_type": "stream",
     "text": [
      "[-4.49715481] [ 0.25242221]\n",
      "0.252422210497\n"
     ]
    }
   ],
   "source": [
    "samples_final=run[6]\n",
    "\n",
    "samples_final_mean = np.zeros(dimension)\n",
    "samples_final_mean_variance = np.zeros(dimension)\n",
    "for i in range(len(samples_final_mean)):\n",
    "    samples_final_mean[i] = np.mean(samples_final[:,i,:])\n",
    "    samples_final_mean_variance[i] = np.var(samples_final[:,i,:])\n",
    "    \n",
    "print samples_final_mean,samples_final_mean_variance\n",
    "variance = (samples_final_mean_variance[0]**2.0)**(1/2.0)\n",
    "print variance"
   ]
  },
  {
   "cell_type": "code",
   "execution_count": 6,
   "metadata": {
    "collapsed": false,
    "scrolled": true
   },
   "outputs": [
    {
     "data": {
      "text/plain": [
       "[<matplotlib.lines.Line2D at 0x10ad44850>]"
      ]
     },
     "execution_count": 6,
     "metadata": {},
     "output_type": "execute_result"
    },
    {
     "data": {
      "image/png": "[encoded data removed]",
      "text/plain": [
       "<matplotlib.figure.Figure at 0x10a7c6410>"
      ]
     },
     "metadata": {},
     "output_type": "display_data"
    }
   ],
   "source": [
    "# # Calculating the autocorrelation in the uncorrelated final sample\n",
    "\n",
    "n = samples_final.shape[0]*1.0\n",
    "m = samples_final.shape[2]*1.0\n",
    "\n",
    "sample_x = samples_final[:,0,:]\n",
    "#sample_y = samples_final[:,1,:]\n",
    "\n",
    "def V(t):\n",
    "    sample_x_i_comma_j = sample_x[t+1-1:,:]\n",
    "    sample_x_i_minus_t_comma_j = sample_x[0:int(n)-t,:]\n",
    "    t=float(t)\n",
    "    return (1/(m*(n-t)))*np.sum(np.sum((sample_x_i_comma_j - sample_x_i_minus_t_comma_j)**2.0,axis=0))\n",
    "\n",
    "def rho(t):\n",
    "    return 1-(V(t)/(2.0*samples_final_mean_variance[0]))\n",
    "\n",
    "rho_array = np.zeros(int(n))\n",
    "t_array = np.arange(int(n))\n",
    "\n",
    "for t in range(int(n)):\n",
    "    rho_array[t]= rho(int(t))\n",
    "    \n",
    "plt.plot(t_array,rho_array,'-',color='b')"
   ]
  },
  {
   "cell_type": "code",
   "execution_count": 7,
   "metadata": {
    "collapsed": false
   },
   "outputs": [
    {
     "name": "stdout",
     "output_type": "stream",
     "text": [
      "[-895.10514885]\n"
     ]
    }
   ],
   "source": [
    "mu = np.mean(run[7],axis=0)\n",
    "var = np.var(run[7],axis=0)\n",
    "N = run[7].shape[0]\n",
    "z = (mu-0)/np.sqrt(var/N)\n",
    "print z"
   ]
  },
  {
   "cell_type": "code",
   "execution_count": 8,
   "metadata": {
    "collapsed": false
   },
   "outputs": [
    {
     "data": {
      "text/plain": [
       "(10000,)"
      ]
     },
     "execution_count": 8,
     "metadata": {},
     "output_type": "execute_result"
    }
   ],
   "source": [
    "f_array=np.ravel([f(run[7][i]) for i in range(run[7].shape[0])])\n",
    "f_array.shape"
   ]
  },
  {
   "cell_type": "code",
   "execution_count": 9,
   "metadata": {
    "collapsed": false,
    "scrolled": false
   },
   "outputs": [
    {
     "data": {
      "text/plain": [
       "<matplotlib.text.Text at 0x10ac69c90>"
      ]
     },
     "execution_count": 9,
     "metadata": {},
     "output_type": "execute_result"
    },
    {
     "data": {
      "image/png": "[encoded data removed]",
      "text/plain": [
       "<matplotlib.figure.Figure at 0x10a7c7bd0>"
      ]
     },
     "metadata": {},
     "output_type": "display_data"
    }
   ],
   "source": [
    "plt.figure(1,figsize=(10,7))\n",
    "#plt.plot(run[5][:,0,:],run[5][:,1,:],'.',color='b')\n",
    "#plt.plot(x_start[:],f(x_start[:]),'or',color='r')\n",
    "plt.plot(run[7][:],f_array,'.',color='r')\n",
    "plt.xlabel('x')\n",
    "plt.ylabel('y')"
   ]
  },
  {
   "cell_type": "code",
   "execution_count": 10,
   "metadata": {
    "collapsed": false
   },
   "outputs": [
    {
     "data": {
      "text/plain": [
       "(10000, 1)"
      ]
     },
     "execution_count": 10,
     "metadata": {},
     "output_type": "execute_result"
    }
   ],
   "source": [
    "run[7].shape"
   ]
  },
  {
   "cell_type": "code",
   "execution_count": 11,
   "metadata": {
    "collapsed": false
   },
   "outputs": [
    {
     "data": {
      "text/plain": [
       "array(0.2524474552425667)"
      ]
     },
     "execution_count": 11,
     "metadata": {},
     "output_type": "execute_result"
    }
   ],
   "source": [
    "np.cov(run[7].T)"
   ]
  },
  {
   "cell_type": "code",
   "execution_count": 12,
   "metadata": {
    "collapsed": false
   },
   "outputs": [
    {
     "data": {
      "text/plain": [
       "array([ 11153.22607208])"
      ]
     },
     "execution_count": 12,
     "metadata": {},
     "output_type": "execute_result"
    }
   ],
   "source": [
    "run[0]"
   ]
  },
  {
   "cell_type": "code",
   "execution_count": 13,
   "metadata": {
    "collapsed": false
   },
   "outputs": [
    {
     "data": {
      "text/plain": [
       "0"
      ]
     },
     "execution_count": 13,
     "metadata": {},
     "output_type": "execute_result"
    }
   ],
   "source": [
    "run[2]"
   ]
  },
  {
   "cell_type": "code",
   "execution_count": null,
   "metadata": {
    "collapsed": true
   },
   "outputs": [],
   "source": []
  }
 ],
 "metadata": {
  "anaconda-cloud": {},
  "kernelspec": {
   "display_name": "Python [default]",
   "language": "python",
   "name": "python2"
  },
  "language_info": {
   "codemirror_mode": {
    "name": "ipython",
    "version": 2
   },
   "file_extension": ".py",
   "mimetype": "text/x-python",
   "name": "python",
   "nbconvert_exporter": "python",
   "pygments_lexer": "ipython2",
   "version": "2.7.12"
  }
 },
 "nbformat": 4,
 "nbformat_minor": 1
}
