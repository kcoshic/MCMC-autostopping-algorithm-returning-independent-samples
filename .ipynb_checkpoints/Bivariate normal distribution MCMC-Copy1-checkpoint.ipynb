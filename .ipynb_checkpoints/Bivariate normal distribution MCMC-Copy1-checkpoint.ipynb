{
 "cells": [
  {
   "cell_type": "code",
   "execution_count": 1,
   "metadata": {
    "collapsed": false
   },
   "outputs": [
    {
     "name": "stderr",
     "output_type": "stream",
     "text": [
      "/Users/kushcoshic/anaconda/lib/python2.7/site-packages/matplotlib/font_manager.py:273: UserWarning: Matplotlib is building the font cache using fc-list. This may take a moment.\n",
      "  warnings.warn('Matplotlib is building the font cache using fc-list. This may take a moment.')\n"
     ]
    },
    {
     "ename": "NameError",
     "evalue": "name 'K' is not defined",
     "output_type": "error",
     "traceback": [
      "\u001b[0;31m---------------------------------------------------------------------------\u001b[0m",
      "\u001b[0;31mNameError\u001b[0m                                 Traceback (most recent call last)",
      "\u001b[0;32m<ipython-input-1-cceab7b4c2d2>\u001b[0m in \u001b[0;36m<module>\u001b[0;34m()\u001b[0m\n\u001b[1;32m     61\u001b[0m \u001b[0;34m\u001b[0m\u001b[0m\n\u001b[1;32m     62\u001b[0m \u001b[0;34m\u001b[0m\u001b[0m\n\u001b[0;32m---> 63\u001b[0;31m \u001b[0mx_recorded\u001b[0m \u001b[0;34m=\u001b[0m \u001b[0mnp\u001b[0m\u001b[0;34m.\u001b[0m\u001b[0mzeros\u001b[0m\u001b[0;34m(\u001b[0m\u001b[0;34m(\u001b[0m\u001b[0mK\u001b[0m\u001b[0;34m,\u001b[0m\u001b[0;36m2\u001b[0m\u001b[0;34m,\u001b[0m\u001b[0mlen\u001b[0m\u001b[0;34m(\u001b[0m\u001b[0mx_start\u001b[0m\u001b[0;34m)\u001b[0m\u001b[0;34m)\u001b[0m\u001b[0;34m)\u001b[0m\u001b[0;34m\u001b[0m\u001b[0m\n\u001b[0m\u001b[1;32m     64\u001b[0m \u001b[0;32mfor\u001b[0m \u001b[0mi\u001b[0m \u001b[0;32min\u001b[0m \u001b[0mrange\u001b[0m\u001b[0;34m(\u001b[0m\u001b[0mlen\u001b[0m\u001b[0;34m(\u001b[0m\u001b[0mx_start\u001b[0m\u001b[0;34m)\u001b[0m\u001b[0;34m)\u001b[0m\u001b[0;34m:\u001b[0m\u001b[0;34m\u001b[0m\u001b[0m\n\u001b[1;32m     65\u001b[0m     \u001b[0mx_current\u001b[0m \u001b[0;34m=\u001b[0m \u001b[0mx_start\u001b[0m\u001b[0;34m[\u001b[0m\u001b[0mi\u001b[0m\u001b[0;34m]\u001b[0m\u001b[0;34m\u001b[0m\u001b[0m\n",
      "\u001b[0;31mNameError\u001b[0m: name 'K' is not defined"
     ]
    }
   ],
   "source": [
    "import scipy as sp\n",
    "import numpy as np\n",
    "import matplotlib.pyplot as plt\n",
    "%matplotlib inline\n",
    "plt.ion()\n",
    "\n",
    "\n",
    "\n",
    "# center point of Bivariate Normal Distribution (BND)\n",
    "mu=np.array([0.,0.])\n",
    "# standard deviation of the BND\n",
    "sigma = np.array([0.5,0.5])\n",
    "# standard deviation for normal distribution, from which random samples are taken during the MCMC\n",
    "sd = 0.125\n",
    "# eigen vectors chosen for the 2-d space\n",
    "ev = np.array([[1.,0.],[0.,1.]])\n",
    "\n",
    "\n",
    "\n",
    "x_start = np.array([[0.,0.],[-0.9,0.9],[-0.9,-0.9],[0.9,-0.9],[0.9,0.9]]) \n",
    "\n",
    "dimension = len(x_start[0])\n",
    "\n",
    "# Multivariate Normal distribution\n",
    "x0=np.matrix(x_start[0])\n",
    "cov=np.matrix([[1.,0.],[0.,1.]])\n",
    "#cov=np.matrix([[1.,3./5],[3./5,2.]])\n",
    "det=np.linalg.det(cov)\n",
    "inv=np.linalg.inv(cov)\n",
    "k=dimension       # dimension\n",
    "def f(x):\n",
    "    x=np.ravel(x)\n",
    "    x=np.matrix(x)\n",
    "    return ((2*np.pi)**(-k/2.))*((det)**(-1/2))*np.exp(-(1./2)*(x-x0)*inv*(x-x0).T)\n",
    "\n",
    "\n",
    "\n",
    "\n",
    "n_eff_list = []\n",
    "mcmc_step_list = []\n",
    "n_eff_list_y = []\n",
    "\n",
    "covv=np.matrix([[1.,0.],[0.,1.]])\n",
    "mean=[0.,0.]\n",
    "\n",
    "def stepper(x):\n",
    "    x=np.ravel(x)\n",
    "    dx = np.random.multivariate_normal([0.,0.], covv, 1)\n",
    "    return x+dx\n",
    "\n",
    "#global f\n",
    "\n",
    "\n",
    "#ev = np.array([[1.,0.],[0.,1.]])      # Basis vectors chosen for the 2-d space\n",
    "\n",
    "n_eff_min = 500           # effective number of samples\n",
    "mcmc_step = 2000          # MCMC iterations step=size\n",
    "R_max = 1.1               # maximum allowed value for R\n",
    "\n",
    "\n",
    "\n",
    "\n",
    "x_recorded = np.zeros((K,2,len(x_start)))\n",
    "for i in range(len(x_start)):\n",
    "    x_current = x_start[i]\n",
    "    acceptances = np.zeros(K)\n",
    "    for k in range(0,K):\n",
    "        step_length_X = np.random.normal(0.,sd)\n",
    "        step_length_Y = np.random.normal(0.,sd)\n",
    "        x_new = x_current + step_length_X * ev[0] + step_length_Y * ev[1]\n",
    "        if np.random.uniform(0,1) < f(x_new,mu,sigma)/f(x_current,mu,sigma):\n",
    "            x_current = x_new\n",
    "            acceptances[k] = 1\n",
    "        x_recorded[k,:,i] = x_current\n",
    "    print 'For chain %f,'%(i),\n",
    "    print 'acceptance fraction = %f'%(1.0*acceptances.sum()/len(acceptances))\n",
    " \n"
   ]
  },
  {
   "cell_type": "code",
   "execution_count": 2,
   "metadata": {
    "collapsed": false
   },
   "outputs": [
    {
     "data": {
      "text/plain": [
       "<matplotlib.text.Text at 0x10cd98bd0>"
      ]
     },
     "execution_count": 2,
     "metadata": {},
     "output_type": "execute_result"
    },
    {
     "data": {
      "image/png": "[encoded data removed]",
      "text/plain": [
       "<matplotlib.figure.Figure at 0x1046661d0>"
      ]
     },
     "metadata": {},
     "output_type": "display_data"
    }
   ],
   "source": [
    "# Plot\n",
    "# Starting points of each chain as big red dots \n",
    "plt.plot(x_recorded[:,0,:],x_recorded[:,1,:],'-',color='b')\n",
    "plt.plot(x_start[:,0],x_start[:,1],'or',color='r')\n",
    "plt.xlabel('x')\n",
    "plt.ylabel('y')\n",
    "\n",
    "# Plot final positions of each chain as small red dots\n",
    "#plt.plot(x_recorded[K-1,0,:],x_recorded[K-1,1,:],'.',color='r')\n",
    "#plt.title('K=500')\n",
    "#plt.savefig('plot 4')"
   ]
  },
  {
   "cell_type": "code",
   "execution_count": 3,
   "metadata": {
    "collapsed": false
   },
   "outputs": [
    {
     "name": "stdout",
     "output_type": "stream",
     "text": [
      "(2000, 2, 10)\n"
     ]
    }
   ],
   "source": [
    "# Warm up period (extracting only second half of the iterations)\n",
    "x_warmup = np.zeros((K/2,2,len(x_start)))\n",
    "x_warmup[:,:,:] = x_recorded[K/2:,:,:]\n",
    "#plt.plot(x_warmup[:,0,:],x_warmup[:,1,:],'.',color='b')\n",
    "\n",
    "# Splitting the chains\n",
    "x_result = np.zeros((K/4,2,2*len(x_start)))\n",
    "x_result[:,:,0:len(x_start)] = x_warmup[0:K/4,:,:]\n",
    "x_result[:,:,len(x_start):2*len(x_start)] = x_warmup[K/4:K/2,:,:]\n",
    "print x_result.shape\n",
    "\n",
    "n=K/4.0     # number of iterations in each chain\n",
    "m=2.0*(len(x_start))    # number of chains"
   ]
  },
  {
   "cell_type": "code",
   "execution_count": 4,
   "metadata": {
    "collapsed": false
   },
   "outputs": [
    {
     "data": {
      "text/plain": [
       "0.031969537111813093"
      ]
     },
     "execution_count": 4,
     "metadata": {},
     "output_type": "execute_result"
    }
   ],
   "source": [
    "# Assessing mixing using between and within sequence variances\n",
    "\n",
    "psi_x = x_result[:,0,:]\n",
    "psi_y = x_result[:,1,:]\n",
    "\n",
    "# Doing only the analysis for x-components of the vectors (i.e. taking the x-components as the definition for psi)\n",
    "psi_dot_j_bar = (1/n)*np.sum(psi_x, axis=0)\n",
    "psi_dot_dot_bar = (1/m)*np.sum(psi_dot_j_bar)\n",
    "\n",
    "B_term = psi_dot_j_bar - psi_dot_dot_bar\n",
    "B = (n/(m-1.0))*np.sum(B_term**2)\n",
    "\n",
    "s_j_square_term = np.zeros((int(n),int(m)))\n",
    "for j in range(int(m)):\n",
    "    s_j_square_term[:,j] = (psi_x[:,j] - psi_dot_j_bar[j])**2.0\n",
    "    \n",
    "s_j_square = (1/(n-1))*np.sum(s_j_square_term, axis=0)\n",
    "W = (1/(m))*np.sum(s_j_square)\n",
    "\n",
    "# variance\n",
    "var_dagger = ((n-1)/(n))*W + (1/n)*B\n",
    "var_dagger"
   ]
  },
  {
   "cell_type": "code",
   "execution_count": 5,
   "metadata": {
    "collapsed": false
   },
   "outputs": [
    {
     "data": {
      "text/plain": [
       "1.0057567513313737"
      ]
     },
     "execution_count": 5,
     "metadata": {},
     "output_type": "execute_result"
    }
   ],
   "source": [
    "# potential scale reduction\n",
    "R = np.sqrt(var_dagger/W)\n",
    "R"
   ]
  },
  {
   "cell_type": "code",
   "execution_count": 6,
   "metadata": {
    "collapsed": false
   },
   "outputs": [],
   "source": [
    "def V(t):\n",
    "    psi_x_i_comma_j = psi_x[t+1-1:,:]\n",
    "    psi_x_i_minus_t_comma_j = psi_x[0:int(n)-t,:]\n",
    "    t=float(t)\n",
    "    return (1/(m*(n-t)))*np.sum(np.sum((psi_x_i_comma_j - psi_x_i_minus_t_comma_j)**2.0,axis=0))"
   ]
  },
  {
   "cell_type": "code",
   "execution_count": 7,
   "metadata": {
    "collapsed": false
   },
   "outputs": [],
   "source": [
    "def rho(t):\n",
    "    return 1-(V(t)/(2.0*var_dagger))"
   ]
  },
  {
   "cell_type": "code",
   "execution_count": 8,
   "metadata": {
    "collapsed": false
   },
   "outputs": [
    {
     "data": {
      "text/plain": [
       "[<matplotlib.lines.Line2D at 0x10e151c10>]"
      ]
     },
     "execution_count": 8,
     "metadata": {},
     "output_type": "execute_result"
    },
    {
     "data": {
      "image/png": "[encoded data removed]",
      "text/plain": [
       "<matplotlib.figure.Figure at 0x10cd985d0>"
      ]
     },
     "metadata": {},
     "output_type": "display_data"
    }
   ],
   "source": [
    "rho_array = np.zeros(int(n))\n",
    "t_array = np.arange(int(n))\n",
    "\n",
    "for t in range(int(n)):\n",
    "    rho_array[t]= rho(int(t))\n",
    "    \n",
    "plt.plot(t_array,rho_array,'.',color='b')"
   ]
  },
  {
   "cell_type": "code",
   "execution_count": 9,
   "metadata": {
    "collapsed": false
   },
   "outputs": [
    {
     "name": "stdout",
     "output_type": "stream",
     "text": [
      "40\n"
     ]
    }
   ],
   "source": [
    "for i in range(int(n)):\n",
    "    check = rho(i) + rho(i+1)\n",
    "    if check < 0:\n",
    "        break\n",
    "print i\n"
   ]
  },
  {
   "cell_type": "code",
   "execution_count": 10,
   "metadata": {
    "collapsed": false
   },
   "outputs": [
    {
     "data": {
      "text/plain": [
       "1354.082222467905"
      ]
     },
     "execution_count": 10,
     "metadata": {},
     "output_type": "execute_result"
    }
   ],
   "source": [
    "n_effective = (m*n)/(1+2.0*np.sum(rho_array[1:i]))\n",
    "n_effective"
   ]
  },
  {
   "cell_type": "code",
   "execution_count": 11,
   "metadata": {
    "collapsed": false
   },
   "outputs": [
    {
     "data": {
      "text/plain": [
       "[<matplotlib.lines.Line2D at 0x10e235a10>]"
      ]
     },
     "execution_count": 11,
     "metadata": {},
     "output_type": "execute_result"
    },
    {
     "data": {
      "image/png": "[encoded data removed]",
      "text/plain": [
       "<matplotlib.figure.Figure at 0x10cda0d90>"
      ]
     },
     "metadata": {},
     "output_type": "display_data"
    }
   ],
   "source": [
    "# Doing the analysis for the y-components of the vectors\n",
    "# Replacing all with _y to denote an analogous calculation for the y-components\n",
    "\n",
    "psi_dot_j_bar_y = (1/n)*np.sum(psi_y, axis=0)\n",
    "psi_dot_dot_bar_y = (1/m)*np.sum(psi_dot_j_bar_y)\n",
    "\n",
    "B_term_y = psi_dot_j_bar_y - psi_dot_dot_bar_y\n",
    "B_y = (n/(m-1.0))*np.sum(B_term**2)\n",
    "\n",
    "s_j_square_term_y = np.zeros((int(n),int(m)))\n",
    "for j in range(int(m)):\n",
    "    s_j_square_term_y[:,j] = (psi_y[:,j] - psi_dot_j_bar_y[j])**2.0\n",
    "    \n",
    "s_j_square_y = (1/(n-1))*np.sum(s_j_square_term_y, axis=0)\n",
    "W_y = (1/(m))*np.sum(s_j_square_y)\n",
    "\n",
    "# variance\n",
    "var_dagger_y = ((n-1)/(n))*W_y + (1/n)*B_y\n",
    "var_dagger_y\n",
    "\n",
    "# potential scale reduction\n",
    "R_y = np.sqrt(var_dagger_y/W_y)\n",
    "R_y\n",
    "\n",
    "def V_y(t):\n",
    "    psi_x_i_comma_j_y = psi_y[t+1-1:,:]\n",
    "    psi_x_i_minus_t_comma_j_y = psi_y[0:int(n)-t,:]\n",
    "    t=float(t)\n",
    "    return (1/(m*(n-t)))*np.sum(np.sum((psi_x_i_comma_j_y - psi_x_i_minus_t_comma_j_y)**2.0,axis=0))\n",
    "\n",
    "def rho_y(t):\n",
    "    return 1-(V_y(t)/(2.0*var_dagger_y))\n",
    "\n",
    "\n",
    "rho_array_y = np.zeros(int(n))\n",
    "t_array_y = np.arange(int(n))\n",
    "\n",
    "for t in range(int(n)):\n",
    "    rho_array_y[t]= rho_y(int(t))\n",
    "    \n",
    "plt.plot(t_array,rho_array_y,'.',color='b')\n"
   ]
  },
  {
   "cell_type": "code",
   "execution_count": 12,
   "metadata": {
    "collapsed": false
   },
   "outputs": [
    {
     "name": "stdout",
     "output_type": "stream",
     "text": [
      "88\n"
     ]
    }
   ],
   "source": [
    "for j in range(int(n)):\n",
    "    check = rho_y(j) + rho_y(j+1)\n",
    "    if check < 0:\n",
    "        break\n",
    "print j\n",
    "\n"
   ]
  },
  {
   "cell_type": "code",
   "execution_count": 13,
   "metadata": {
    "collapsed": false
   },
   "outputs": [
    {
     "data": {
      "text/plain": [
       "554.40757437142668"
      ]
     },
     "execution_count": 13,
     "metadata": {},
     "output_type": "execute_result"
    }
   ],
   "source": [
    "n_effective_y = (m*n)/(1+2.0*np.sum(rho_array_y[1:i]))\n",
    "n_effective_y"
   ]
  },
  {
   "cell_type": "code",
   "execution_count": 14,
   "metadata": {
    "collapsed": false
   },
   "outputs": [
    {
     "name": "stdout",
     "output_type": "stream",
     "text": [
      "for K = 8000.000000,\n",
      "n effective for x-compnents of the vectors as psi = 1354.082222\n",
      "n effective for y-compnents of the vectors as psi = 554.407574\n"
     ]
    }
   ],
   "source": [
    "print 'for K = %f,'%(int(K))\n",
    "print 'n effective for x-compnents of the vectors as psi = %f'%(n_effective)\n",
    "print 'n effective for y-compnents of the vectors as psi = %f'%(n_effective_y)"
   ]
  },
  {
   "cell_type": "code",
   "execution_count": 15,
   "metadata": {
    "collapsed": false
   },
   "outputs": [
    {
     "data": {
      "text/plain": [
       "14.770151818069563"
      ]
     },
     "execution_count": 15,
     "metadata": {},
     "output_type": "execute_result"
    }
   ],
   "source": [
    "m*n/n_effective"
   ]
  },
  {
   "cell_type": "code",
   "execution_count": 16,
   "metadata": {
    "collapsed": false
   },
   "outputs": [
    {
     "data": {
      "text/plain": [
       "36.074543214304917"
      ]
     },
     "execution_count": 16,
     "metadata": {},
     "output_type": "execute_result"
    }
   ],
   "source": [
    "m*n/n_effective_y"
   ]
  },
  {
   "cell_type": "code",
   "execution_count": 17,
   "metadata": {
    "collapsed": false
   },
   "outputs": [
    {
     "data": {
      "text/plain": [
       "1.0057567513313737"
      ]
     },
     "execution_count": 17,
     "metadata": {},
     "output_type": "execute_result"
    }
   ],
   "source": [
    "R"
   ]
  },
  {
   "cell_type": "code",
   "execution_count": null,
   "metadata": {
    "collapsed": true
   },
   "outputs": [],
   "source": []
  }
 ],
 "metadata": {
  "anaconda-cloud": {},
  "kernelspec": {
   "display_name": "Python [default]",
   "language": "python",
   "name": "python2"
  },
  "language_info": {
   "codemirror_mode": {
    "name": "ipython",
    "version": 2
   },
   "file_extension": ".py",
   "mimetype": "text/x-python",
   "name": "python",
   "nbconvert_exporter": "python",
   "pygments_lexer": "ipython2",
   "version": "2.7.12"
  }
 },
 "nbformat": 4,
 "nbformat_minor": 1
}
